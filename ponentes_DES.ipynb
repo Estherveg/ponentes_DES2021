{
 "cells": [
  {
   "cell_type": "markdown",
   "metadata": {},
   "source": [
    "# Obtener con web scraping el listado de ponentes del DES 2021"
   ]
  },
  {
   "cell_type": "markdown",
   "metadata": {},
   "source": [
    "En la página oficial de Digital Enterprise Show (DES 2021) https://www.des-madrid.com/es/ se puede encontrar información sobre los ponentes que participan en las diferentes charlas del evento. La información se encuentra ordenada alfabéticamente por el nombre del speaker en un total de 8 páginas. A página con la información específica de cada uno de los profesionales se puede acceder desde el listado inicial.\n",
    "\n",
    "El objetivo de este notebook es agrupar en un fichero CSV la información básica sobre estos profesionales: nombre, cargo, compañía, biografía y enlaces a sus redes sociales profesionales (linkedin y Twitter)."
   ]
  },
  {
   "cell_type": "code",
   "execution_count": 68,
   "metadata": {},
   "outputs": [],
   "source": [
    "# Importar librerías\n",
    "import pandas as pd\n",
    "import numpy as np\n",
    "import urllib\n",
    "from bs4 import BeautifulSoup\n",
    "from time import time\n"
   ]
  },
  {
   "cell_type": "markdown",
   "metadata": {},
   "source": [
    "En primer lugar definimos las funciones que vamos a utilizar más adelante: \n",
    "* fx_extrae_detalles: Extrae los datos sobre la bio y rrss de los ponentes\n",
    "* fx_info_speaker: Crea las fichas con toda la info de los ponentes que hay en cada página del listado principal"
   ]
  },
  {
   "cell_type": "code",
   "execution_count": 70,
   "metadata": {},
   "outputs": [],
   "source": [
    "'''\n",
    "fx_extrae_detalles\n",
    "\n",
    "Esta función recoge los datos de biografía y enlaces a RRSS del ponente\n",
    "Parámetros: url personalizada del ponente y el headers que usamos en todo el programa para las llamadas a BS\n",
    "Return: Datos de biografía, url de linkedin y url de Twitter del ponente\n",
    "'''\n",
    "\n",
    "#def fx_extrae_detalles\n",
    "\n",
    "def fx_extrae_detalles(url_mas_info,headers):\n",
    "    \n",
    "    req = urllib.request.Request(url_mas_info, headers=headers)\n",
    "    response = urllib.request.urlopen(req)\n",
    "    soup3 = BeautifulSoup(response.read(), 'html.parser')\n",
    "\n",
    "    speaker_rrss_container=soup3.find_all(\"ul\",class_=\"list-social-profiles mt-2\")\n",
    "    for container in speaker_rrss_container:\n",
    "        try:\n",
    "            tag_rrss=container(\"a\")\n",
    "\n",
    "            url_linkedin=tag_rrss[0].get(\"href\")\n",
    "            if len(tag_rrss)>1:\n",
    "                url_TW=tag_rrss[1].get(\"href\") \n",
    "            else:\n",
    "                url_TW=\"no disponible\"\n",
    "            \n",
    "        except:\n",
    "            url_linkedin=\"no disponible\"\n",
    "            url_TW=\"no disponible\"\n",
    "\n",
    "    speaker_bio_container=soup3(\"div\",class_=\"module-agenda-text-content\")\n",
    "\n",
    "    speaker_bio_tag=speaker_bio_container[3](\"p\")\n",
    "    speaker_bio=\"\"\n",
    "    for tag in speaker_bio_tag:\n",
    "        if (len(tag.attrs)) == 0: # Con esta condición filtro solo el texto que me interesa\n",
    "            a= tag.contents[0] # Extraigo el contenido de la etiqueta\n",
    "            speaker_bio = speaker_bio + a # Voy concatenando cada contenido a la variable bio\n",
    "\n",
    "    detalles=[speaker_bio, url_linkedin,url_TW]\n",
    "    return detalles"
   ]
  },
  {
   "cell_type": "code",
   "execution_count": 71,
   "metadata": {},
   "outputs": [],
   "source": [
    "'''\n",
    "fx_info_speaker()\n",
    "\n",
    "Función para obtener nombre, empresa y cargo de cada uno de los speakers de la página principal. \n",
    "Parámetros de entrada: resultado del soup de la página de primer nivel, columnas del dataframe y headers\n",
    "Return: Dataframe con las fichas de los ponentes de esa página\n",
    "Esta función llama a fx_extrae_detalles() para obtener el resto de datos para la ficha usando como parámetro de entrada la url de la página personalizada del ponente\n",
    "\n",
    "''' \n",
    "\n",
    "def fx_info_speaker(soup,column_names,headers):\n",
    "\n",
    "    # Buscamos los contenedores con la info de los speakers\n",
    "    speaker_container=soup.find_all(\"div\",class_=\"entity-speakers-box\")\n",
    "\n",
    "    df_ficha_speakers=pd.DataFrame(columns=column_names)\n",
    "\n",
    "\n",
    "    for container in speaker_container:\n",
    "        \n",
    "\n",
    "        tag_nombres=container(\"h4\")\n",
    "        nombre=tag_nombres[0].contents[0]\n",
    "        try:\n",
    "            tag_companys=container.find_all(\"p\", class_=\"speaker-business-company\")\n",
    "            company=str(tag_companys[0].contents[0]).replace(\"<strong>\",\"\").replace(\"</strong>\",\"\")\n",
    "        except:\n",
    "            company=\"Freelance\"\n",
    "        try:\n",
    "            tag_position=container.find_all(\"p\", class_=\"speaker-business-position\")\n",
    "            position=str(tag_position[0].contents[0])\n",
    "        except:\n",
    "            company=\"sin cargo\"\n",
    "        \n",
    "        tag_mas_info=container(\"a\")\n",
    "        try:\n",
    "            url_mas_info=tag_mas_info[0].get(\"href\")\n",
    "            detalles=fx_extrae_detalles(url_mas_info,headers)\n",
    "        \n",
    "            \n",
    "        except:\n",
    "            url_mas_info=\"sin información adicional\"\n",
    "            detalles=[\"no disponible\",\"no disponible\",\"no disponible\"]\n",
    "        ficha = [nombre, company, position,url_mas_info]\n",
    "        \n",
    "        # Llamo a la función fx_extrae_detalles() para ir a la pág. del siguiente nivel a leer la bio y RRSS\n",
    "        ficha.extend(detalles)\n",
    "        df_ficha_speakers.loc[len(df_ficha_speakers)] = ficha\n",
    "        \n",
    "    #print(df_ficha_speakers.info())\n",
    "\n",
    "    return (df_ficha_speakers)\n",
    "  "
   ]
  },
  {
   "cell_type": "code",
   "execution_count": 72,
   "metadata": {},
   "outputs": [
    {
     "name": "stdout",
     "output_type": "stream",
     "text": [
      "https://www.des-madrid.com/agenda-2021-speakers/\n",
      "https://www.des-madrid.com/agenda-2021-speakers/page/2/\n",
      "https://www.des-madrid.com/agenda-2021-speakers/page/3/\n",
      "https://www.des-madrid.com/agenda-2021-speakers/page/4/\n",
      "https://www.des-madrid.com/agenda-2021-speakers/page/5/\n",
      "https://www.des-madrid.com/agenda-2021-speakers/page/6/\n",
      "https://www.des-madrid.com/agenda-2021-speakers/page/7/\n",
      "Elapsed time: 590.7714700699 seconds.\n"
     ]
    }
   ],
   "source": [
    "start_time = time()\n",
    "\n",
    "'''\n",
    "La página principal se divide en 7 páginas de listados de ponentes en DES 2021.\n",
    "La primera es: https://www.des-madrid.com/agenda-2021-speakers/\n",
    "El resto son esa url seguida de \"page/nº/\"\n",
    "'''\n",
    "\n",
    "# Crear la lista de urls con el listado de ponentes\n",
    "url_principal=\"https://www.des-madrid.com/agenda-2021-speakers/\"\n",
    "lista_urls=[url_principal]\n",
    "for i in range(2,8):\n",
    "    siguiente=url_principal+\"page/\"+str(i)+\"/\"\n",
    "    lista_urls.append(siguiente)\n",
    "    \n",
    "# Estructura del dataframe\n",
    "column_names=(\"nombre\",\"company\",\"cargo\",\"más info\",\"speaker_bio\", \"url_linkedin\",\"url_TW\")\n",
    "df_ficha_speakers=pd.DataFrame(columns=column_names)\n",
    "df_ficha_speakers_parcial=pd.DataFrame(columns=column_names)\n",
    "\n",
    "# headers que voy a usar \n",
    "headers = {'User-Agent': 'Mozilla/5.0 (X11; Ubuntu; Linux x86_64; rv:80.0) Gecko/20100101 Firefox/80.0'}\n",
    "\n",
    "\n",
    "#recorremos cada una de las páginas y en ellas extraeremos la información de cada uno de los ponentes\n",
    "#llamando a la función que lee los datos del ponente\n",
    "for url in lista_urls:\n",
    "    \n",
    "    req = urllib.request.Request(url, headers=headers)\n",
    "    response = urllib.request.urlopen(req)\n",
    "    soup = BeautifulSoup(response.read(), 'html.parser')\n",
    "    \n",
    "    # llamada a la función que extrae la info y que devuelve un dataframe parcial con la info de los ponente de esa página\n",
    "    df_ficha_speakers_parcial=fx_info_speaker(soup,column_names,headers)\n",
    "    \n",
    "    # añadir las fichas de esa página al df total\n",
    "    df_ficha_speakers=df_ficha_speakers.append(df_ficha_speakers_parcial)\n",
    "    \n",
    "# guardamos en un fichero CSV el listado completo\n",
    "df_ficha_speakers.to_csv(\"ponentes_DES_2021.csv\")\n",
    "\n",
    "elapsed_time = time() - start_time\n",
    "print(\"Tiempo de ejecución empleado: %.10f seconds.\" % elapsed_time)"
   ]
  },
  {
   "cell_type": "code",
   "execution_count": 73,
   "metadata": {},
   "outputs": [
    {
     "name": "stdout",
     "output_type": "stream",
     "text": [
      "<class 'pandas.core.frame.DataFrame'>\n",
      "Int64Index: 413 entries, 0 to 52\n",
      "Data columns (total 7 columns):\n",
      " #   Column        Non-Null Count  Dtype \n",
      "---  ------        --------------  ----- \n",
      " 0   nombre        413 non-null    object\n",
      " 1   company       413 non-null    object\n",
      " 2   cargo         413 non-null    object\n",
      " 3   más info      413 non-null    object\n",
      " 4   speaker_bio   413 non-null    object\n",
      " 5   url_linkedin  413 non-null    object\n",
      " 6   url_TW        413 non-null    object\n",
      "dtypes: object(7)\n",
      "memory usage: 25.8+ KB\n"
     ]
    }
   ],
   "source": [
    "# Esta es la información recogida. 413 ponentes en total\n",
    "df_ficha_speakers.info()"
   ]
  },
  {
   "cell_type": "code",
   "execution_count": 76,
   "metadata": {},
   "outputs": [
    {
     "data": {
      "text/html": [
       "<div>\n",
       "<style scoped>\n",
       "    .dataframe tbody tr th:only-of-type {\n",
       "        vertical-align: middle;\n",
       "    }\n",
       "\n",
       "    .dataframe tbody tr th {\n",
       "        vertical-align: top;\n",
       "    }\n",
       "\n",
       "    .dataframe thead th {\n",
       "        text-align: right;\n",
       "    }\n",
       "</style>\n",
       "<table border=\"1\" class=\"dataframe\">\n",
       "  <thead>\n",
       "    <tr style=\"text-align: right;\">\n",
       "      <th></th>\n",
       "      <th>nombre</th>\n",
       "      <th>company</th>\n",
       "      <th>cargo</th>\n",
       "      <th>más info</th>\n",
       "      <th>speaker_bio</th>\n",
       "      <th>url_linkedin</th>\n",
       "      <th>url_TW</th>\n",
       "    </tr>\n",
       "  </thead>\n",
       "  <tbody>\n",
       "    <tr>\n",
       "      <th>51</th>\n",
       "      <td>Xavier Idevik</td>\n",
       "      <td>DonDominio</td>\n",
       "      <td>Marketing Director</td>\n",
       "      <td>https://www.des-madrid.com/agenda-2021-speaker...</td>\n",
       "      <td>Mi nombre es Xavier Idevik, llevo trabajando e...</td>\n",
       "      <td>https://www.linkedin.com/in/xavieridevik/</td>\n",
       "      <td>TW no disponible</td>\n",
       "    </tr>\n",
       "    <tr>\n",
       "      <th>52</th>\n",
       "      <td>Yvonne Flores</td>\n",
       "      <td>FYCMA- Foro Transfiere</td>\n",
       "      <td>Head of TradeFairs</td>\n",
       "      <td>https://www.des-madrid.com/agenda-2021-speaker...</td>\n",
       "      <td>Head of Trade Fairs at Fycma and graduated fro...</td>\n",
       "      <td>https://www.linkedin.com/in/yvonne-flores-b6a2...</td>\n",
       "      <td>TW no disponible</td>\n",
       "    </tr>\n",
       "  </tbody>\n",
       "</table>\n",
       "</div>"
      ],
      "text/plain": [
       "           nombre                 company               cargo  \\\n",
       "51  Xavier Idevik              DonDominio  Marketing Director   \n",
       "52  Yvonne Flores  FYCMA- Foro Transfiere  Head of TradeFairs   \n",
       "\n",
       "                                             más info  \\\n",
       "51  https://www.des-madrid.com/agenda-2021-speaker...   \n",
       "52  https://www.des-madrid.com/agenda-2021-speaker...   \n",
       "\n",
       "                                          speaker_bio  \\\n",
       "51  Mi nombre es Xavier Idevik, llevo trabajando e...   \n",
       "52  Head of Trade Fairs at Fycma and graduated fro...   \n",
       "\n",
       "                                         url_linkedin            url_TW  \n",
       "51          https://www.linkedin.com/in/xavieridevik/  TW no disponible  \n",
       "52  https://www.linkedin.com/in/yvonne-flores-b6a2...  TW no disponible  "
      ]
     },
     "execution_count": 76,
     "metadata": {},
     "output_type": "execute_result"
    }
   ],
   "source": [
    "# ejemplo de un par de fichas\n",
    "df_ficha_speakers.tail(2)"
   ]
  },
  {
   "cell_type": "code",
   "execution_count": null,
   "metadata": {},
   "outputs": [],
   "source": []
  }
 ],
 "metadata": {
  "kernelspec": {
   "display_name": "Python 3",
   "language": "python",
   "name": "python3"
  },
  "language_info": {
   "codemirror_mode": {
    "name": "ipython",
    "version": 3
   },
   "file_extension": ".py",
   "mimetype": "text/x-python",
   "name": "python",
   "nbconvert_exporter": "python",
   "pygments_lexer": "ipython3",
   "version": "3.8.3"
  }
 },
 "nbformat": 4,
 "nbformat_minor": 4
}
